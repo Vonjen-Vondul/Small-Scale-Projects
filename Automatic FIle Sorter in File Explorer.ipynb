{
 "cells": [
  {
   "cell_type": "code",
   "execution_count": 71,
   "id": "8e279143",
   "metadata": {},
   "outputs": [],
   "source": [
    "import os, shutil"
   ]
  },
  {
   "cell_type": "code",
   "execution_count": 87,
   "id": "c7be3f20",
   "metadata": {},
   "outputs": [],
   "source": [
    "path=r\"C:/Users/Vondul Daniel/Documents/test folder/\""
   ]
  },
  {
   "cell_type": "code",
   "execution_count": 88,
   "id": "531561a0",
   "metadata": {},
   "outputs": [],
   "source": [
    "file_type=os.listdir(path)"
   ]
  },
  {
   "cell_type": "code",
   "execution_count": 89,
   "id": "0a2ec36c",
   "metadata": {},
   "outputs": [],
   "source": [
    "folder=[\"CSV_Files\",\"Word_Files\",\"Xls_Files\",\"PDF_files\"]\n",
    "\n",
    "for loop in range(0,4):\n",
    "        if not os.path.exists(path+folder[loop]):\n",
    "            #print(path+folder[loop])\n",
    "            os.makedirs(path+folder[loop])\n",
    "for file in file_type:\n",
    "    if \".csv\" in file and not os.path.exists(path +\"CSV_Files/\" + file):\n",
    "        shutil.move(path+file,path +\"CSV_Files/\" + file)\n",
    "    elif \".xlsx\" in file and not os.path.exists(path +\"Xls_Files/\" + file):\n",
    "        shutil.move(path+file,path +\"Xls_Files/\" + file)\n",
    "    elif \".docx\" in file and not  os.path.exists(path +\"Xls_Files/\" + file):\n",
    "        shutil.move(path+file,path +\"Word_Files/\" + file)\n",
    "    elif \".pdf\" in file and not  os.path.exists(path + \"PDF_Files/\" + file):\n",
    "        shutil.move(path+file,path + \"PDF_Files/\" + file)"
   ]
  },
  {
   "cell_type": "code",
   "execution_count": 92,
   "id": "caaab3da",
   "metadata": {},
   "outputs": [],
   "source": []
  },
  {
   "cell_type": "code",
   "execution_count": null,
   "id": "b40f605c",
   "metadata": {},
   "outputs": [],
   "source": []
  }
 ],
 "metadata": {
  "kernelspec": {
   "display_name": "Python 3 (ipykernel)",
   "language": "python",
   "name": "python3"
  },
  "language_info": {
   "codemirror_mode": {
    "name": "ipython",
    "version": 3
   },
   "file_extension": ".py",
   "mimetype": "text/x-python",
   "name": "python",
   "nbconvert_exporter": "python",
   "pygments_lexer": "ipython3",
   "version": "3.9.13"
  }
 },
 "nbformat": 4,
 "nbformat_minor": 5
}
